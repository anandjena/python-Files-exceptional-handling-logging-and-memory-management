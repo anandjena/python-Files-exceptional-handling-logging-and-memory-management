{
  "nbformat": 4,
  "nbformat_minor": 0,
  "metadata": {
    "colab": {
      "provenance": []
    },
    "kernelspec": {
      "name": "python3",
      "display_name": "Python 3"
    },
    "language_info": {
      "name": "python"
    }
  },
  "cells": [
    {
      "cell_type": "markdown",
      "source": [
        "1.What is the difference between interpreted and compiled languages?\n",
        "- Compiled and interpreted languages differ in how they translate source code into executable instructions. Compiled languages use a compiler to translate the entire source code into machine code before execution, producing a standalone executable file. This makes them generally faster at runtime, with errors caught at compile time. Examples include C, C++, Go, and Rust. In contrast, interpreted languages use an interpreter to execute code line by line at runtime, without creating a separate executable. They tend to be slower but are often more portable and easier to debug since errors appear during execution. Examples include Python, JavaScript, and Ruby.\n",
        "\n",
        "2.What is exception handling in Python?\n",
        "- Exception handling in Python is a way to manage errors that occur during program execution, so that the program can respond gracefully instead of crashing.\n",
        "\n",
        "3.What is the purpose of the finally block in exception handling?\n",
        "- The finally block in Python is used to define clean-up actions that must be executed no matter what—whether an exception was raised or not.\n",
        "\n",
        "4.What is logging in Python?\n",
        "- Logging in Python is the process of recording messages that describe events or status in your program. It helps you track what's happening during execution—especially useful for debugging, monitoring, and auditing.\n",
        "\n",
        "5.What is the significance of the __del__ method in Python?\n",
        "- The __del__ method in Python is a special method called a destructor. It is automatically invoked when an object is about to be destroyed, i.e., when it is garbage collected.\n",
        "\n",
        "6.What is the difference between import and from ... import in Python?\n",
        "- In Python, both import and from ... import are used to bring in external modules, but they differ in how they expose functionality. The import statement loads the entire module, and you access its functions or classes using the module name as a prefix.On the other hand, from ... import lets you import specific parts of a module directly into your current namespace, allowing you to use them without the module prefix .While import keeps the namespace clean and avoids name conflicts, from ... import can make code shorter but may risk overwriting names or causing confusion if overused.\n",
        "\n",
        "7.How can you handle multiple exceptions in Python?\n",
        "- In Python, we can handle multiple exceptions in a few ways. To catch multiple exceptions with the same handling logic, we can group them in a tuple within a single 'except' block (e.g., 'except (ValueError, ZeroDivisionError) as e'). This is useful when we want a uniform response for different errors. Alternatively, if we need to handle each exception differently, we can use separate 'except' blocks for each exception type (e.g., one for 'ValueError' and another for 'ZeroDivisionError'). Additionally, we can use the 'as' keyword to capture the exception details in a variable, allowing us to access specific information about the error that occurred. This makes error handling more flexible and tailored to different situations.\n",
        "\n",
        "8.What is the purpose of the with statement when handling files in Python?\n",
        "- The with statement in Python is used to simplify resource management and ensure that resources, like files, are properly cleaned up after use. When handling files, it ensures that the file is automatically closed once the block of code inside the with statement is finished executing, even if an error occurs within the block.\n",
        "\n",
        "9.What is the difference between multithreading and multiprocessing?\n",
        "- Multithreading and multiprocessing are both techniques for achieving concurrent execution in Python, but they differ in how they manage system resources. Multithreading uses multiple threads within the same process, sharing the same memory space, making it ideal for I/O-bound tasks like file operations or network requests, where threads spend time waiting for external resources. However, due to the Global Interpreter Lock (GIL) in CPython, only one thread can execute Python code at a time, limiting its effectiveness for CPU-bound tasks. On the other hand, multiprocessing creates separate processes, each with its own memory space and interpreter, allowing for full parallelism and better performance for CPU-bound tasks, as it bypasses the GIL and can utilize multiple CPU cores. While multithreading is lightweight and more memory efficient, multiprocessing is heavier but more effective for computationally intensive tasks.\n",
        "\n",
        "10.What are the advantages of using logging in a program?\n",
        "- Using logging in a program offers several key advantages over simple print statements. It allows for **error tracking** and capturing important events, making it easier to diagnose and debug issues, especially in production or on remote systems. Logging provides **granular control** by allowing different levels of logging (e.g., DEBUG, INFO, WARNING, ERROR, CRITICAL), so you can filter and control the output based on the severity of events. Additionally, logging produces **persistent records** that can be saved to files, databases, or external systems, providing a historical trail of program execution that can be useful for auditing, monitoring, and troubleshooting long after the program has run.\n",
        "\n",
        "11.What is memory management in Python?\n",
        "- Memory management in Python refers to the process of efficiently allocating and deallocating memory to objects during the execution of a program. Python uses an automatic memory management system, which includes garbage collection to reclaim memory that is no longer in use. Objects are created dynamically, and the reference counting mechanism tracks the number of references to an object. When an object's reference count drops to zero, meaning it's no longer needed, the memory is freed. Python also employs a garbage collector to detect and clean up circular references (objects referencing each other), ensuring optimal memory usage. The combination of reference counting and garbage collection helps Python manage memory automatically, reducing the risk of memory leaks and improving efficiency in most cases.\n",
        "\n",
        "12.What are the basic steps involved in exception handling in Python?\n",
        "- The basic steps involved in exception handling in Python are: first, the try block is used to write the code that may raise an exception. If an exception occurs, it is caught by the corresponding except block, where you define how to handle the exception (e.g., logging the error, printing a message, or taking corrective action). Optionally, an else block can be added after except to define code that runs if no exception was raised in the try block. Finally, the finally block ensures that a certain piece of code (e.g., resource cleanup, file closing) runs no matter what, whether an exception occurred or not. This structure helps manage errors gracefully and maintain program flow without crashing.\n",
        "\n",
        "13.Why is memory management important in Python?\n",
        "- Memory management is important in Python because it ensures efficient utilization of system resources, preventing memory leaks and optimizing performance. Python's automatic memory management system, which includes reference counting and garbage collection, allows for dynamic allocation and deallocation of memory, ensuring that unused objects are cleaned up. Proper memory management prevents the program from consuming excessive memory, which could lead to slowdowns, crashes, or running out of memory, especially in long-running programs or those handling large datasets. By managing memory effectively, Python ensures that resources are released when no longer needed, improving both reliability and efficiency.\n",
        "\n",
        "14.What is the role of try and except in exception handling?\n",
        "- In exception handling, the try block is used to enclose code that may raise an exception, allowing the program to attempt execution without immediately crashing if an error occurs. If an exception is raised within the try block, the except block catches the exception and defines how to handle it, such as logging the error, providing a custom error message, or taking corrective actions. This mechanism helps to prevent the program from terminating abruptly, ensuring smooth handling of unexpected situations and maintaining the flow of execution.\n",
        "\n",
        "15.How does Python's garbage collection system work?\n",
        "  - Python's garbage collection system is designed to automatically manage memory by reclaiming memory occupied by objects that are no longer in use. The primary mechanism for garbage collection in Python is reference counting, where each object keeps track of how many references point to it. When the reference count drops to zero (i.e., no references remain), the memory is immediately freed.\n",
        "\n",
        "  However, reference counting alone cannot handle circular references (where two or more objects reference each other, forming a cycle). To address this, Python also uses a cyclic garbage collector that periodically checks for such cycles and frees the memory by breaking the circular references.\n",
        "\n",
        "  Python's garbage collector works in generations:\n",
        "\n",
        "  Young objects (newly created) are initially placed in the \"young generation\" and are collected more frequently.\n",
        "\n",
        "  Objects that survive multiple garbage collection cycles are promoted to older generations and are collected less frequently.\n",
        "\n",
        "  This combination of reference counting and cyclic garbage collection helps optimize memory management, ensuring that Python programs use memory efficiently without manual intervention.\n",
        "\n",
        "16.What is the purpose of the else block in exception handling?\n",
        " - The else block in exception handling is used to define code that should run only if no exception was raised in the try block. It provides a way to execute additional operations when the code in the try block runs successfully, without needing to check for exceptions manually. The else block is placed after all except blocks, ensuring that it only executes when no error occurs. This is useful for cases where you want to perform a task only if the code in the try block completes without issues, such as committing a transaction or logging a success message.\n",
        "\n",
        "17.What are the common logging levels in Python?\n",
        " - In Python, the common logging levels are used to indicate the severity or importance of a log message. These levels, in increasing order of severity, are: DEBUG (detailed information, typically for diagnosing problems), INFO (general information about the program's execution), WARNING (indicates a potential issue or something that isn't right but does not stop the program), ERROR (indicates a more serious problem that prevents some part of the program from functioning correctly), and CRITICAL (indicates a very serious error that may cause the program to stop). These levels help control the granularity of log output, allowing developers to focus on the most relevant information during development or troubleshooting.\n",
        "\n",
        "18.What is the difference between os.fork() and multiprocessing in Python?\n",
        "  - The difference between os.fork() and multiprocessing in Python lies in their abstraction and usage. os.fork() is a low-level system call available only on Unix-based systems, where it creates a child process by duplicating the parent process, sharing the same memory space (with copy-on-write optimizations). It requires manual management of process synchronization and communication. In contrast, multiprocessing is a high-level, cross-platform module that provides better memory isolation by creating independent child processes, each with its own memory space. It simplifies process management, synchronization, and inter-process communication, making it easier to use on both Unix and Windows systems.\n",
        "\n",
        "19.What is the importance of closing a file in Python?\n",
        "- Closing a file in Python is important because it ensures that all data is properly written and saved, and resources such as memory and file handles are released. When a file is closed, any buffered data is flushed to the disk, preventing potential data loss. Leaving a file open can lead to memory leaks, excessive use of system resources, and issues with file locks, especially in long-running programs. Using the with statement helps manage file closing automatically, but when done manually, calling file.close() ensures that the file is properly closed, maintaining the stability and performance of the program.\n",
        "\n",
        "20.What is the difference between file.read() and file.readline() in Python?\n",
        "- The difference between file.read() and file.readline() in Python is that file.read() reads the entire content of a file at once and returns it as a single string, which is useful when you need to work with the whole file's data at once, but can be memory-intensive for large files. In contrast, file.readline() reads one line at a time, returning a string containing just that line, making it more memory-efficient when processing large files line by line.\n",
        "\n",
        "21.What is the logging module in Python used for?\n",
        "- The logging module in Python is used for tracking and recording log messages from your program. It allows you to log various levels of messages, such as debugging, info, warning, error, and critical messages, to help monitor, debug, and track the execution flow of a program. The module provides a flexible system for directing log messages to different destinations (e.g., console, files, remote servers) and for formatting them in a customizable way. This is particularly useful for identifying issues in production environments and keeping a persistent record of program behavior, which aids in troubleshooting and maintaining the code.\n",
        "\n",
        "22.What is the os module in Python used for in file handling?\n",
        "- The os module in Python is used for interacting with the operating system and performing various file handling operations. It provides functions to manipulate files and directories, such as os.open() to open a file, os.remove() to delete a file, os.rename() to rename a file, and os.path for path-related operations like checking if a file exists, joining paths, or getting file properties. Additionally, it allows you to navigate and manipulate directories with functions like os.mkdir() to create a directory and os.chdir() to change the current working directory. The os module is useful for low-level file operations that go beyond basic file reading and writing, providing more control over the file system.\n",
        "\n",
        "23.What are the challenges associated with memory management in Python?\n",
        "- Memory management in Python, while largely automatic through its garbage collection system, presents several challenges. One primary challenge is the Global Interpreter Lock (GIL), which prevents true parallel execution of multiple threads in CPython, affecting memory management efficiency for CPU-bound tasks. Additionally, Python's reference counting can struggle with circular references, where objects reference each other, causing memory leaks if the garbage collector doesn't identify and break the cycle. Another challenge is the overhead of garbage collection, as the cyclic garbage collector periodically checks for unreachable objects, which can lead to performance issues, especially in memory-intensive applications. Furthermore, Python's dynamic nature can lead to inefficient memory usage, as objects are often allocated dynamically without explicit control, resulting in potential memory fragmentation over time. Finally, since Python manages memory automatically, developers may not always be aware of when memory is being freed, which can make debugging and optimizing memory use more difficult.\n",
        "\n",
        "24. How do you raise an exception manually in Python?\n",
        "- In Python, you can raise an exception manually using the raise keyword followed by the exception you want to raise. You can raise a built-in exception (like ValueError, TypeError, etc.) or define your own custom exceptions by creating a class that inherits from the base Exception class. Here’s an example of how to raise an exception manually:\n",
        "x = -5\n",
        "if x < 0:\n",
        "    raise ValueError(\"Negative value is not allowed\")\n",
        "\n",
        "25.Why is it important to use multithreading in certain applications?\n",
        "- Using multithreading in certain applications is important because it allows for concurrent execution of tasks, which can significantly improve performance, especially in applications that involve I/O-bound operations like reading/writing files, network communication, or interacting with databases. By utilizing multiple threads, an application can continue performing other tasks while waiting for I/O operations to complete, thus improving responsiveness and overall efficiency. Multithreading is also useful in situations where an application needs to handle multiple independent tasks simultaneously, such as handling multiple user requests in a web server. While multithreading can enhance performance, it’s most beneficial when the tasks are not CPU-bound (since the Global Interpreter Lock (GIL) in Python limits true parallel execution in threads for CPU-heavy tasks). Proper use of multithreading can lead to better resource utilization, reduced wait times, and a smoother user experience.\n",
        "\n",
        "\n",
        "\n",
        "\n"
      ],
      "metadata": {
        "id": "DUSgCdSuPBOK"
      }
    },
    {
      "cell_type": "code",
      "source": [
        "#1.How can you open a file for writing in Python and write a string to it?\n",
        "file = open(\"example.txt\", \"w\")\n",
        "file.write(\"Hello, world!\")\n",
        "file.close()"
      ],
      "metadata": {
        "id": "Rh-N_SwPUstX"
      },
      "execution_count": 1,
      "outputs": []
    },
    {
      "cell_type": "code",
      "source": [
        "# 2.Write a Python program to read the contents of a file and print each line?\n",
        "file = open(\"example.txt\", \"r\")\n",
        "for line in file:\n",
        "    print(line)\n",
        "file.close()"
      ],
      "metadata": {
        "colab": {
          "base_uri": "https://localhost:8080/"
        },
        "id": "M7J4CnMiVbUI",
        "outputId": "4d7c36cd-cf09-4b55-b849-36a21302bd9d"
      },
      "execution_count": 2,
      "outputs": [
        {
          "output_type": "stream",
          "name": "stdout",
          "text": [
            "Hello, world!\n"
          ]
        }
      ]
    },
    {
      "cell_type": "code",
      "source": [
        "# 3.How would you handle a case where the file doesn't exist while trying to open it for reading?\n",
        "try:\n",
        "    with open('non_existent_file.txt', 'r') as file:\n",
        "        content = file.read()\n",
        "        print(content)\n",
        "except FileNotFoundError:\n",
        "    print(\"The file does not exist.\")\n"
      ],
      "metadata": {
        "colab": {
          "base_uri": "https://localhost:8080/"
        },
        "id": "rrPWteAoVlej",
        "outputId": "47f1a75f-b8e3-46d4-e62e-c4cfe552fd1f"
      },
      "execution_count": 3,
      "outputs": [
        {
          "output_type": "stream",
          "name": "stdout",
          "text": [
            "The file does not exist.\n"
          ]
        }
      ]
    },
    {
      "cell_type": "code",
      "source": [
        "# 4.Write a Python script that reads from one file and writes its content to another file?\n",
        "try:\n",
        "    with open('file1.txt', 'r') as source_file:\n",
        "        content = source_file.read()  # Read the content of the source file\n",
        "\n",
        "    with open('file2.txt', 'w') as destination_file:\n",
        "        destination_file.write(content)  # Write the content to the destination file\n",
        "\n",
        "    print(\"File content copied successfully.\")\n",
        "except FileNotFoundError:\n",
        "    print(\"Source file not found.\")\n",
        "except IOError as e:\n",
        "    print(f\"An error occurred: {e}\")"
      ],
      "metadata": {
        "colab": {
          "base_uri": "https://localhost:8080/"
        },
        "id": "01PXCPlCV5at",
        "outputId": "3d99125e-4e1b-46db-fa7d-b9c0e5dd8f54"
      },
      "execution_count": 4,
      "outputs": [
        {
          "output_type": "stream",
          "name": "stdout",
          "text": [
            "Source file not found.\n"
          ]
        }
      ]
    },
    {
      "cell_type": "code",
      "source": [
        "# 5.How would you catch and handle division by zero error in Python?\n",
        "try:\n",
        "    numerator = 10\n",
        "    denominator = 0\n",
        "    result = numerator / denominator  # This will raise a ZeroDivisionError\n",
        "except ZeroDivisionError:\n",
        "    print(\"Error: Cannot divide by zero!\")\n",
        "else:\n",
        "    print(f\"The result is: {result}\")"
      ],
      "metadata": {
        "colab": {
          "base_uri": "https://localhost:8080/"
        },
        "id": "15WbKUQAWYfw",
        "outputId": "0fd8e2b4-04f0-4bf9-8724-8299ee3afa1d"
      },
      "execution_count": 5,
      "outputs": [
        {
          "output_type": "stream",
          "name": "stdout",
          "text": [
            "Error: Cannot divide by zero!\n"
          ]
        }
      ]
    },
    {
      "cell_type": "code",
      "source": [
        "# 6.Write a Python program that logs an error message to a log file when a division by zero exception occurs.\n",
        "import logging\n",
        "\n",
        "# Set up logging configuration\n",
        "logging.basicConfig(filename='error_log.txt',\n",
        "                    level=logging.ERROR,\n",
        "                    format='%(asctime)s - %(levelname)s - %(message)s')\n",
        "\n",
        "try:\n",
        "    numerator = 10\n",
        "    denominator = 0\n",
        "    result = numerator / denominator  # This will raise a ZeroDivisionError\n",
        "except ZeroDivisionError as e:\n",
        "    logging.error(\"Division by zero occurred: %s\", e)\n",
        "\n",
        "print(\"The error has been logged.\")\n"
      ],
      "metadata": {
        "colab": {
          "base_uri": "https://localhost:8080/"
        },
        "id": "RwjdMNhMWj1r",
        "outputId": "a4bfad37-b8f0-4938-823c-e4e7ad3603eb"
      },
      "execution_count": 6,
      "outputs": [
        {
          "output_type": "stream",
          "name": "stderr",
          "text": [
            "ERROR:root:Division by zero occurred: division by zero\n"
          ]
        },
        {
          "output_type": "stream",
          "name": "stdout",
          "text": [
            "The error has been logged.\n"
          ]
        }
      ]
    },
    {
      "cell_type": "code",
      "source": [
        "# 7. How do you log information at different levels (INFO, ERROR, WARNING) in Python using the logging module?\n",
        "import logging\n",
        "\n",
        "import logging\n",
        "\n",
        "logging.basicConfig(filename='app_log.txt',\n",
        "                    level=logging.DEBUG,\n",
        "                    format='%(asctime)s - %(levelname)s - %(message)s')\n",
        "\n",
        "logging.info(\"This is an INFO message, providing general information.\")\n",
        "logging.warning(\"This is a WARNING message, indicating a potential issue.\")\n",
        "logging.error(\"This is an ERROR message, indicating something went wrong.\")\n",
        "\n",
        "\n"
      ],
      "metadata": {
        "colab": {
          "base_uri": "https://localhost:8080/"
        },
        "id": "MzgjQIoAWzmy",
        "outputId": "f39ce9bb-577c-40ce-ebb3-1b857c520282"
      },
      "execution_count": 7,
      "outputs": [
        {
          "output_type": "stream",
          "name": "stderr",
          "text": [
            "WARNING:root:This is a WARNING message, indicating a potential issue.\n",
            "ERROR:root:This is an ERROR message, indicating something went wrong.\n"
          ]
        }
      ]
    },
    {
      "cell_type": "code",
      "source": [
        "# 8.Write a program to handle a file opening error using exception handling.\n",
        "try:\n",
        "    # Attempt to open a file that might not exist\n",
        "    with open('non_existent_file.txt', 'r') as file:\n",
        "        content = file.read()\n",
        "        print(content)\n",
        "except FileNotFoundError:\n",
        "    print(\"Error: The file does not exist.\")\n",
        "except PermissionError:\n",
        "    print(\"Error: You do not have permission to open the file.\")\n",
        "except Exception as e:\n",
        "    print(f\"An unexpected error occurred: {e}\")\n"
      ],
      "metadata": {
        "colab": {
          "base_uri": "https://localhost:8080/"
        },
        "id": "05yHrD7WXPT8",
        "outputId": "5a94863c-2669-4cda-f043-a866c81d5452"
      },
      "execution_count": 8,
      "outputs": [
        {
          "output_type": "stream",
          "name": "stdout",
          "text": [
            "Error: The file does not exist.\n"
          ]
        }
      ]
    },
    {
      "cell_type": "code",
      "source": [
        "# 9. How can you read a file line by line and store its content in a list in Python?\n",
        "lines = []\n",
        "with open('example.txt', 'r') as file:\n",
        "    for line in file:\n",
        "        lines.append(line.strip())  # Using strip() to remove newline characters\n",
        "\n",
        "print(lines)\n"
      ],
      "metadata": {
        "colab": {
          "base_uri": "https://localhost:8080/"
        },
        "id": "O9m6c9HaXWFo",
        "outputId": "e8213bce-d7d8-4bbd-e29e-4595954fd39d"
      },
      "execution_count": 9,
      "outputs": [
        {
          "output_type": "stream",
          "name": "stdout",
          "text": [
            "['Hello, world!']\n"
          ]
        }
      ]
    },
    {
      "cell_type": "code",
      "source": [
        "# 10. How can you append data to an existing file in Python?\n",
        "with open('example.txt', 'a') as file:\n",
        "    file.write(\"\\nThis is the new line of text to append.\")\n",
        "\n",
        "print(\"Data has been appended to the file.\")\n"
      ],
      "metadata": {
        "colab": {
          "base_uri": "https://localhost:8080/"
        },
        "id": "Z1XIetThXim8",
        "outputId": "21d6e044-5f91-4549-f9b0-ab708d7dfa01"
      },
      "execution_count": 10,
      "outputs": [
        {
          "output_type": "stream",
          "name": "stdout",
          "text": [
            "Data has been appended to the file.\n"
          ]
        }
      ]
    },
    {
      "cell_type": "code",
      "source": [
        "# 11.Write a Python program that uses a try-except block to handle an error when attempting to access a dictionary key that doesn't existF.\n",
        "student_scores = {\n",
        "    'Alice': 85,\n",
        "    'Bob': 90,\n",
        "    'Charlie': 78\n",
        "}\n",
        "\n",
        "# Attempt to access a key that may not exist\n",
        "try:\n",
        "    name = 'David'\n",
        "    score = student_scores[name]\n",
        "    print(f\"{name}'s score is {score}.\")\n",
        "except KeyError:\n",
        "    print(f\"Error: '{name}' is not found in the dictionary.\")"
      ],
      "metadata": {
        "colab": {
          "base_uri": "https://localhost:8080/"
        },
        "id": "8I9D3z-3Xu4m",
        "outputId": "f66c09e0-80ce-40fa-881c-a6fef487affc"
      },
      "execution_count": 11,
      "outputs": [
        {
          "output_type": "stream",
          "name": "stdout",
          "text": [
            "Error: 'David' is not found in the dictionary.\n"
          ]
        }
      ]
    },
    {
      "cell_type": "code",
      "source": [
        "# 12.Write a program that demonstrates using multiple except blocks to handle different types of exceptionsF.\n",
        "try:\n",
        "    # Simulate user input\n",
        "    number = int(input(\"Enter a number: \"))\n",
        "    result = 10 / number\n",
        "    print(f\"Result is: {result}\")\n",
        "\n",
        "    # Try to access a key in a dictionary\n",
        "    data = {'name': 'Alice'}\n",
        "    print(data['age'])  # This key doesn't exist\n",
        "\n",
        "except ValueError:\n",
        "    print(\"Error: Invalid input. Please enter a valid integer.\")\n",
        "\n",
        "except ZeroDivisionError:\n",
        "    print(\"Error: Cannot divide by zero.\")\n",
        "\n",
        "except KeyError as e:\n",
        "    print(f\"Error: The key {e} was not found in the dictionary.\")\n",
        "\n",
        "except Exception as e:\n",
        "    print(f\"An unexpected error occurred: {e}\")"
      ],
      "metadata": {
        "colab": {
          "base_uri": "https://localhost:8080/"
        },
        "id": "FhCbMkeRf-My",
        "outputId": "23e448b9-ac1a-4d15-9cef-01aee931c5b6"
      },
      "execution_count": 12,
      "outputs": [
        {
          "output_type": "stream",
          "name": "stdout",
          "text": [
            "Enter a number: 12\n",
            "Result is: 0.8333333333333334\n",
            "Error: The key 'age' was not found in the dictionary.\n"
          ]
        }
      ]
    },
    {
      "cell_type": "code",
      "source": [
        "# 13.How would you check if a file exists before attempting to read it in Python?\n",
        "import os\n",
        "\n",
        "file_path = 'example.txt'\n",
        "\n",
        "if os.path.exists(file_path):\n",
        "    with open(file_path, 'r') as file:\n",
        "        content = file.read()\n",
        "        print(content)\n",
        "else:\n",
        "    print(\"The file does not exist.\")"
      ],
      "metadata": {
        "colab": {
          "base_uri": "https://localhost:8080/"
        },
        "id": "XsSFYUXEgGOI",
        "outputId": "96e13235-84f9-4ec4-a1ef-8ffa1869b6ca"
      },
      "execution_count": 13,
      "outputs": [
        {
          "output_type": "stream",
          "name": "stdout",
          "text": [
            "Hello, world!\n",
            "This is the new line of text to append.\n"
          ]
        }
      ]
    },
    {
      "cell_type": "code",
      "source": [
        "# 14.Write a program that uses the logging module to log both informational and error messages.\n",
        "import logging\n",
        "\n",
        "# Configure the logging system\n",
        "logging.basicConfig(\n",
        "    filename='app.log',              # Log file name\n",
        "    level=logging.DEBUG,             # Minimum level to log\n",
        "    format='%(asctime)s - %(levelname)s - %(message)s'\n",
        ")\n",
        "\n",
        "# Log an informational message\n",
        "logging.info(\"Application started.\")\n",
        "\n",
        "try:\n",
        "    # Simulate a calculation\n",
        "    result = 10 / 0  # This will raise a ZeroDivisionError\n",
        "    logging.info(f\"Calculation result: {result}\")\n",
        "except ZeroDivisionError as e:\n",
        "    logging.error(f\"An error occurred: {e}\")\n",
        "\n",
        "logging.info(\"Application finished.\")"
      ],
      "metadata": {
        "colab": {
          "base_uri": "https://localhost:8080/"
        },
        "id": "zy4DOz1JgTfm",
        "outputId": "d1fc9860-903b-4df5-98ce-2e345b8ef234"
      },
      "execution_count": 14,
      "outputs": [
        {
          "output_type": "stream",
          "name": "stderr",
          "text": [
            "ERROR:root:An error occurred: division by zero\n"
          ]
        }
      ]
    },
    {
      "cell_type": "code",
      "source": [
        "# 15.Write a Python program that prints the content of a file and handles the case when the file is empty.\n",
        "def read_and_print_file(filename):\n",
        "    try:\n",
        "        with open(filename, 'r') as file:\n",
        "            content = file.read()\n",
        "            if content.strip():  # Check if content is not just whitespace\n",
        "                print(\"File Content:\\n\")\n",
        "                print(content)\n",
        "            else:\n",
        "                print(\"The file is empty.\")\n",
        "    except FileNotFoundError:\n",
        "        print(\"Error: The file does not exist.\")\n",
        "    except Exception as e:\n",
        "        print(f\"An unexpected error occurred: {e}\")\n",
        "\n",
        "# Example usage\n",
        "read_and_print_file('example.txt')"
      ],
      "metadata": {
        "colab": {
          "base_uri": "https://localhost:8080/"
        },
        "id": "beoLT3phgbKw",
        "outputId": "b10dc1c1-398c-4d6e-cebe-6cbbf99d5870"
      },
      "execution_count": 15,
      "outputs": [
        {
          "output_type": "stream",
          "name": "stdout",
          "text": [
            "File Content:\n",
            "\n",
            "Hello, world!\n",
            "This is the new line of text to append.\n"
          ]
        }
      ]
    },
    {
      "cell_type": "code",
      "source": [
        "# 16.Demonstrate how to use memory profiling to check the memory usage of a small program.\n",
        "\n",
        "\n",
        "import tracemalloc\n",
        "\n",
        "def create_large_list():\n",
        "    a = [i for i in range(1000000)]\n",
        "    b = [x * 2 for x in a]\n",
        "    return b\n",
        "\n",
        "# Start tracing memory\n",
        "tracemalloc.start()\n",
        "\n",
        "create_large_list()\n",
        "\n",
        "# Show memory usage\n",
        "current, peak = tracemalloc.get_traced_memory()\n",
        "print(f\"Current memory usage: {current / 1024 / 1024:.2f} MB\")\n",
        "print(f\"Peak memory usage: {peak / 1024 / 1024:.2f} MB\")\n",
        "\n",
        "tracemalloc.stop()"
      ],
      "metadata": {
        "colab": {
          "base_uri": "https://localhost:8080/"
        },
        "id": "OUftMCPrgiJ6",
        "outputId": "d5d99698-6c7f-4651-f94d-10eb120cf356"
      },
      "execution_count": 18,
      "outputs": [
        {
          "output_type": "stream",
          "name": "stdout",
          "text": [
            "Current memory usage: 0.03 MB\n",
            "Peak memory usage: 77.17 MB\n"
          ]
        }
      ]
    },
    {
      "cell_type": "code",
      "source": [
        "# 17.Write a Python program to create and write a list of numbers to a file, one number per line.\n",
        "numbers = [1, 2, 3, 4, 5, 10, 20, 30]\n",
        "\n",
        "# Specify the file name\n",
        "filename = 'numbers.txt'\n",
        "\n",
        "try:\n",
        "    # Open the file in write mode\n",
        "    with open(filename, 'w') as file:\n",
        "        for number in numbers:\n",
        "            file.write(f\"{number}\\n\")  # Write each number on a new line\n",
        "    print(f\"Numbers have been written to {filename}.\")\n",
        "except Exception as e:\n",
        "    print(f\"An error occurred: {e}\")"
      ],
      "metadata": {
        "colab": {
          "base_uri": "https://localhost:8080/"
        },
        "id": "c9ZzmMDghFUd",
        "outputId": "13523c9c-0ca7-44e7-f9b2-45ff076ce96d"
      },
      "execution_count": 19,
      "outputs": [
        {
          "output_type": "stream",
          "name": "stdout",
          "text": [
            "Numbers have been written to numbers.txt.\n"
          ]
        }
      ]
    },
    {
      "cell_type": "code",
      "source": [
        "# 18.How would you implement a basic logging setup that logs to a file with rotation after 1MB?\n",
        "import logging\n",
        "from logging.handlers import RotatingFileHandler\n",
        "\n",
        "# Set up logger\n",
        "logger = logging.getLogger('my_logger')\n",
        "logger.setLevel(logging.DEBUG)  # Set the logging level\n",
        "\n",
        "# Create a rotating file handler (1MB max, keep 3 backups)\n",
        "handler = RotatingFileHandler(\n",
        "    'my_app.log', maxBytes=1 * 1024 * 1024, backupCount=3\n",
        ")\n",
        "\n",
        "# Create a formatter and set it for the handler\n",
        "formatter = logging.Formatter('%(asctime)s - %(levelname)s - %(message)s')\n",
        "handler.setFormatter(formatter)\n",
        "\n",
        "# Add handler to the logger\n",
        "logger.addHandler(handler)\n",
        "\n",
        "# Example logging\n",
        "for i in range(10000):\n",
        "    logger.info(f\"This is log entry number {i}\")"
      ],
      "metadata": {
        "id": "R8anh8cBhQmB"
      },
      "execution_count": null,
      "outputs": []
    },
    {
      "cell_type": "code",
      "source": [
        "# 19.Write a program that handles both IndexError and KeyError using a try-except block.\n",
        "def handle_errors():\n",
        "    # Sample list and dictionary\n",
        "    my_list = [1, 2, 3]\n",
        "    my_dict = {'a': 1, 'b': 2}\n",
        "\n",
        "    try:\n",
        "        # Attempting to access an invalid index in the list\n",
        "        print(my_list[5])\n",
        "\n",
        "        # Attempting to access a non-existing key in the dictionary\n",
        "        print(my_dict['c'])\n",
        "\n",
        "    except IndexError as ie:\n",
        "        print(f\"IndexError: {ie} - You tried to access an invalid index in the list.\")\n",
        "\n",
        "    except KeyError as ke:\n",
        "        print(f\"KeyError: {ke} - The key was not found in the dictionary.\")\n",
        "\n",
        "    except Exception as e:\n",
        "        print(f\"An unexpected error occurred: {e}\")\n",
        "\n",
        "# Calling the function to test error handling\n",
        "handle_errors()"
      ],
      "metadata": {
        "colab": {
          "base_uri": "https://localhost:8080/"
        },
        "id": "NdE0gbozhim1",
        "outputId": "f3910346-c37c-4893-db25-87c184a6c77c"
      },
      "execution_count": 21,
      "outputs": [
        {
          "output_type": "stream",
          "name": "stdout",
          "text": [
            "IndexError: list index out of range - You tried to access an invalid index in the list.\n"
          ]
        }
      ]
    },
    {
      "cell_type": "code",
      "source": [
        "# 20.How would you open a file and read its contents using a context manager in Python?\n",
        "file_name = 'example.txt'\n",
        "\n",
        "with open(file_name, 'r') as file:\n",
        "    content = file.read()  # Read the entire file content\n",
        "    print(content)"
      ],
      "metadata": {
        "colab": {
          "base_uri": "https://localhost:8080/"
        },
        "id": "-8NDYpyWhqjo",
        "outputId": "4c8a2cc3-8738-4112-eedc-1101cb197d04"
      },
      "execution_count": 22,
      "outputs": [
        {
          "output_type": "stream",
          "name": "stdout",
          "text": [
            "Hello, world!\n",
            "This is the new line of text to append.\n"
          ]
        }
      ]
    },
    {
      "cell_type": "code",
      "source": [
        "# 21.Write a Python program that reads a file and prints the number of occurrences of a specific word.\n",
        "import re\n",
        "\n",
        "def write_to_file(file_name):\n",
        "    # Text to be written to the file\n",
        "    text = \"Python is great. Python is versatile. Learn Python.\"\n",
        "\n",
        "    try:\n",
        "        # Write the text to the file\n",
        "        with open(file_name, 'w') as file:\n",
        "            file.write(text)\n",
        "        print(f\"Text has been written to {file_name}.\")\n",
        "\n",
        "    except Exception as e:\n",
        "        print(f\"An error occurred while writing to the file: {e}\")\n",
        "\n",
        "def count_word_in_file(file_name, target_word):\n",
        "    try:\n",
        "        with open(file_name, 'r') as file:\n",
        "            # Read all lines from the file\n",
        "            content = file.read()\n",
        "\n",
        "            # Remove punctuation and convert text to lowercase\n",
        "            content = re.sub(r'[^\\w\\s]', '', content).lower()\n",
        "\n",
        "            # Split into words and count occurrences of the target word\n",
        "            word_count = content.split().count(target_word.lower())\n",
        "\n",
        "        print(f\"The word '{target_word}' appears {word_count} times in the file.\")\n",
        "\n",
        "    except FileNotFoundError:\n",
        "        print(f\"Error: The file '{file_name}' was not found.\")\n",
        "    except Exception as e:\n",
        "        print(f\"An error occurred: {e}\")\n",
        "\n",
        "# File name\n",
        "file_name = 'example.txt'\n",
        "target_word = 'python'\n",
        "\n",
        "# First, write the text to the file\n",
        "write_to_file(file_name)\n",
        "\n",
        "# Then, count the occurrences of the word \"python\"\n",
        "count_word_in_file(file_name, target_word)\n",
        "\n"
      ],
      "metadata": {
        "colab": {
          "base_uri": "https://localhost:8080/"
        },
        "id": "VQMfnAzQh0ZY",
        "outputId": "62b95fb4-7aa0-4f1f-8513-e8f043b028c4"
      },
      "execution_count": 27,
      "outputs": [
        {
          "output_type": "stream",
          "name": "stdout",
          "text": [
            "Text has been written to example.txt.\n",
            "The word 'python' appears 3 times in the file.\n"
          ]
        }
      ]
    },
    {
      "cell_type": "code",
      "source": [
        "# 22. How can you check if a file is empty before attempting to read its contents?\n",
        "import os\n",
        "\n",
        "def is_file_empty(file_name):\n",
        "    # Check if the file exists and is empty\n",
        "    return os.path.exists(file_name) and os.stat(file_name).st_size == 0\n",
        "\n",
        "def read_file(file_name):\n",
        "    if is_file_empty(file_name):\n",
        "        print(f\"The file '{file_name}' is empty.\")\n",
        "    else:\n",
        "        try:\n",
        "            with open(file_name, 'r') as file:\n",
        "                content = file.read()\n",
        "                print(\"File content:\")\n",
        "                print(content)\n",
        "        except Exception as e:\n",
        "            print(f\"An error occurred: {e}\")\n",
        "\n",
        "# File name\n",
        "file_name = 'example.txt'\n",
        "\n",
        "# Read the file after checking if it's empty\n",
        "read_file(file_name)\n"
      ],
      "metadata": {
        "colab": {
          "base_uri": "https://localhost:8080/"
        },
        "id": "WKXMzIiVh8_j",
        "outputId": "0b69dd40-b812-492a-a128-18da4b08ced3"
      },
      "execution_count": 28,
      "outputs": [
        {
          "output_type": "stream",
          "name": "stdout",
          "text": [
            "File content:\n",
            "Python is great. Python is versatile. Learn Python.\n"
          ]
        }
      ]
    },
    {
      "cell_type": "code",
      "source": [
        "# 23.Write a Python program that writes to a log file when an error occurs during file handling.\n",
        "import logging\n",
        "\n",
        "# Set up the logger\n",
        "logging.basicConfig(filename='file_handling.log', level=logging.ERROR,\n",
        "                    format='%(asctime)s - %(levelname)s - %(message)s')\n",
        "\n",
        "def read_file(file_name):\n",
        "    try:\n",
        "        with open(file_name, 'r') as file:\n",
        "            content = file.read()\n",
        "            print(content)\n",
        "    except FileNotFoundError as e:\n",
        "        logging.error(f\"File '{file_name}' not found. Error: {e}\")\n",
        "        print(f\"Error: File '{file_name}' not found.\")\n",
        "    except PermissionError as e:\n",
        "        logging.error(f\"Permission denied for file '{file_name}'. Error: {e}\")\n",
        "        print(f\"Error: Permission denied for file '{file_name}'.\")\n",
        "    except Exception as e:\n",
        "        logging.error(f\"An unexpected error occurred while reading '{file_name}'. Error: {e}\")\n",
        "        print(f\"An unexpected error occurred: {e}\")\n",
        "\n",
        "def write_to_file(file_name, content):\n",
        "    try:\n",
        "        with open(file_name, 'w') as file:\n",
        "            file.write(content)\n",
        "            print(f\"Content written to {file_name}.\")\n",
        "    except PermissionError as e:\n",
        "        logging.error(f\"Permission denied while writing to '{file_name}'. Error: {e}\")\n",
        "        print(f\"Error: Permission denied while writing to '{file_name}'.\")\n",
        "    except Exception as e:\n",
        "        logging.error(f\"An unexpected error occurred while writing to '{file_name}'. Error: {e}\")\n",
        "        print\n"
      ],
      "metadata": {
        "id": "15MA5ywHivj5"
      },
      "execution_count": 29,
      "outputs": []
    }
  ]
}